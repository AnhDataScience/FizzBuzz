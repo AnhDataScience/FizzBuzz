{
 "cells": [
  {
   "cell_type": "code",
   "execution_count": 1,
   "id": "24d8cf58",
   "metadata": {},
   "outputs": [
    {
     "name": "stdout",
     "output_type": "stream",
     "text": [
      "Nhap so bat dau: 5\n",
      "Nhap so ket thuc: 100\n"
     ]
    },
    {
     "ename": "SyntaxError",
     "evalue": "'break' outside loop (2179269326.py, line 6)",
     "output_type": "error",
     "traceback": [
      "\u001b[1;36m  File \u001b[1;32m\"C:\\Users\\ngquo\\AppData\\Local\\Temp\\ipykernel_20868\\2179269326.py\"\u001b[1;36m, line \u001b[1;32m6\u001b[0m\n\u001b[1;33m    break\u001b[0m\n\u001b[1;37m    ^\u001b[0m\n\u001b[1;31mSyntaxError\u001b[0m\u001b[1;31m:\u001b[0m 'break' outside loop\n"
     ]
    }
   ],
   "source": [
    "a = int(input('Nhap so bat dau: '))\n",
    "b = int(input('Nhap so ket thuc: '))\n",
    "\n",
    "if a>=b:\n",
    "    print('so bat dau nho hon so ket thuc')\n",
    "    break\n",
    "else:\n",
    "    for i in range (a,b+1):\n",
    "        if i%3 == 0 and i%5==0:\n",
    "            print(\"FizzBuzz\")\n",
    "        elif i%3 == 0:\n",
    "            print(\"Fizz\")\n",
    "        elif i%5 == 0:\n",
    "            print(\"Buzz\")\n",
    "        else:\n",
    "            print(i)"
   ]
  }
 ],
 "metadata": {
  "kernelspec": {
   "display_name": "Python 3 (ipykernel)",
   "language": "python",
   "name": "python3"
  },
  "language_info": {
   "codemirror_mode": {
    "name": "ipython",
    "version": 3
   },
   "file_extension": ".py",
   "mimetype": "text/x-python",
   "name": "python",
   "nbconvert_exporter": "python",
   "pygments_lexer": "ipython3",
   "version": "3.9.13"
  }
 },
 "nbformat": 4,
 "nbformat_minor": 5
}
